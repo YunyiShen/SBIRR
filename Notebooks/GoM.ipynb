{
 "cells": [
  {
   "cell_type": "markdown",
   "id": "e88cf930",
   "metadata": {},
   "source": [
    "## Gulf of Mexico vortex"
   ]
  },
  {
   "cell_type": "markdown",
   "id": "01c21753-7018-44a0-9316-f23bb4504743",
   "metadata": {},
   "source": [
    "### Importing packages"
   ]
  },
  {
   "cell_type": "code",
   "execution_count": 1,
   "id": "77e9f7f8-8251-43ec-b4a8-5d35c72d5f23",
   "metadata": {},
   "outputs": [],
   "source": [
    "import numpy as np\n",
    "\n",
    "import pyro.contrib.gp as gp\n",
    "from SBIRR.SDE_solver import solve_sde_RK\n",
    "from SBIRR.utils import plot_trajectories_2\n",
    "import matplotlib.pyplot as plt\n",
    "from SBIRR.Schrodinger import gpIPFP, SchrodingerTrain, gpdrift, nndrift\n",
    "from SBIRR.GP import spatMultitaskGPModel\n",
    "from SBIRR.gradient_field_NN import train_nn_gradient, GradFieldMLP2\n",
    "import torch\n",
    "import torch.nn as nn\n",
    "import sys\n",
    "device = torch.device(\"cuda\" if torch.cuda.is_available() else \"cpu\")\n",
    "import math\n",
    "import time\n",
    "import csv\n",
    "\n",
    "from SBIRR.experiments_helper import get_settings # in ../package/SBIRR/experiments_helper.py"
   ]
  },
  {
   "cell_type": "markdown",
   "id": "3ce5644c",
   "metadata": {},
   "source": [
    "## set up and load data"
   ]
  },
  {
   "cell_type": "code",
   "execution_count": 5,
   "id": "f894957c-c1c8-4b6a-8328-42db8f9bd2a4",
   "metadata": {},
   "outputs": [],
   "source": [
    "task_name = \"GoMvortex\" # or \"GoMvortexsmall\" \n",
    "# load all data\n",
    "Xs_val = np.load(\"./data/\"+task_name+\"_data.npy\", allow_pickle = True)\n",
    "Xs_val = [torch.tensor(X).to(device) for X in Xs_val]\n",
    "n_snap = len(Xs_val)\n",
    "Xs = [Xs_val[2 * i] for i in range(int(n_snap/2)+1)]\n",
    "N_steps = len(Xs)\n",
    "# take SDE seetings and reference family\n",
    "sigma, dt, N, dts, oursnndrift, vanillanndrift = get_settings(task_name, N_steps)"
   ]
  },
  {
   "cell_type": "code",
   "execution_count": 6,
   "id": "551713c1-11df-4993-86da-3c40551eae96",
   "metadata": {},
   "outputs": [
    {
     "data": {
      "text/plain": [
       "<torch._C.Generator at 0x7fd2aac64b30>"
      ]
     },
     "execution_count": 6,
     "metadata": {},
     "output_type": "execute_result"
    }
   ],
   "source": [
    "torch.manual_seed(0)"
   ]
  },
  {
   "cell_type": "markdown",
   "id": "a53a28df",
   "metadata": {},
   "source": [
    "### running our method"
   ]
  },
  {
   "cell_type": "code",
   "execution_count": 12,
   "id": "28013b50-7dff-40d0-b01c-22b8f176e137",
   "metadata": {},
   "outputs": [],
   "source": [
    "def gpIPFPmaker(ref_drift = None, N = N, device = device):\n",
    "        return gpIPFP(\n",
    "                  ref_drift = ref_drift, \n",
    "                  N = N, device = device)\n",
    "oursSchrodinger_train = SchrodingerTrain(Xs, dts, sigma)\n",
    "\n",
    "# IRR\n",
    "start_time = time.time()\n",
    "_, backnforth = oursSchrodinger_train.iter_drift_fit(gpIPFPmaker,\n",
    "                                                        oursnndrift,\n",
    "                                                        ipfpiter = 10, \n",
    "                                                        iteration = 10)\n",
    "end_time = time.time()\n",
    "elapsed_time_irr = end_time - start_time"
   ]
  },
  {
   "cell_type": "markdown",
   "id": "a4dceafa",
   "metadata": {},
   "source": [
    "### vanilla-SB"
   ]
  },
  {
   "cell_type": "code",
   "execution_count": 13,
   "id": "35f96dca-6819-4fb2-874c-c028043cf43f",
   "metadata": {},
   "outputs": [],
   "source": [
    "# Naive\n",
    "start_time = time.time()\n",
    "_, backnforth_vSB = oursSchrodinger_train.iter_drift_fit(gpIPFPmaker,\n",
    "                                                        vanillanndrift,\n",
    "                                                        ipfpiter = 10, \n",
    "                                                        iteration = 1)\n",
    "end_time = time.time()\n",
    "elapsed_time_naive = end_time - start_time"
   ]
  },
  {
   "cell_type": "markdown",
   "id": "24bb4336",
   "metadata": {},
   "source": [
    "### earth mover distance"
   ]
  },
  {
   "cell_type": "code",
   "execution_count": null,
   "id": "29c38179-79fa-4610-af6a-d9e950561b2e",
   "metadata": {},
   "outputs": [],
   "source": [
    "from TrajectoryNet.optimal_transport.emd import earth_mover_distance\n",
    "i = 1\n",
    "[earth_mover_distance(Xs_val[2 * i + 1], backnforth[:,int((backnforth.shape[1]-1)/(len(Xs_val)-1)) * (2 * i + 1),:-1]), \\\n",
    "earth_mover_distance(Xs_val[2 * i + 1], backnforth_vSB[:,int((backnforth.shape[1]-1)/(len(Xs_val)-1)) * (2 * i + 1),:-1])]"
   ]
  },
  {
   "cell_type": "markdown",
   "id": "f3e197cc",
   "metadata": {},
   "source": [
    "### visualizing"
   ]
  },
  {
   "cell_type": "markdown",
   "id": "1c3866d5",
   "metadata": {},
   "source": [
    "Visualizing ours"
   ]
  },
  {
   "cell_type": "code",
   "execution_count": null,
   "id": "11b0aab4-3653-4caf-94c5-07a2cae89a75",
   "metadata": {},
   "outputs": [],
   "source": [
    "for i in range(backnforth.shape[0]): # using this for range to plot the same amount of trajectories as the baseline\n",
    "    plt.plot(backnforth[i,:,0], backnforth[i,:,1], color=\"black\", alpha = 0.1, lw=.8)\n",
    "for i in range(Xs_val.shape[0]):\n",
    "    color = cmap(i/Xs_val.shape[0])\n",
    "    if (i % 2) != 0:\n",
    "        plt.scatter(Xs_val[i][:,0], Xs_val[i][:,1], color=color, s=3, marker='x', edgecolors=color, lw=0.5)\n",
    "    if (i % 2) != 1:\n",
    "        plt.scatter(Xs_val[i][:,0], Xs_val[i][:,1], color=color, marker='o', edgecolors=color, s=3, lw=0.5)\n",
    "# Add legend\n",
    "#cax = fig.add_axes([0.91,0.11,0.01,0.77])\n",
    "#fig.colorbar(cm.ScalarMappable(cmap=cmap, norm=matplotlib.colors.Normalize(vmin=0, vmax=10)), label=\"Time\", cax=cax)\n",
    "\n",
    "# Add legend markers\n",
    "training_data = matplotlib.lines.Line2D([], [], color='black', marker='o', linestyle='None',\n",
    "                          markersize=3, label='Training data')\n",
    "val_data = matplotlib.lines.Line2D([], [], color='black', marker='x', linestyle='None',\n",
    "                          markersize=3, label='Validation data')\n"
   ]
  },
  {
   "cell_type": "code",
   "execution_count": null,
   "id": "bb393a99",
   "metadata": {},
   "outputs": [],
   "source": [
    "for i in range(backnforth_vSB.shape[0]): # using this for range to plot the same amount of trajectories as the baseline\n",
    "    plt.plot(backnforth_vSB[i,:,0], backnforth_vSB[i,:,1], color=\"black\", alpha = 0.1, lw=.8)\n",
    "for i in range(Xs_val.shape[0]):\n",
    "    color = cmap(i/Xs_val.shape[0])\n",
    "    if (i % 2) != 0:\n",
    "        plt.scatter(Xs_val[i][:,0], Xs_val[i][:,1], color=color, s=3, marker='x', edgecolors=color, lw=0.5)\n",
    "    if (i % 2) != 1:\n",
    "        plt.scatter(Xs_val[i][:,0], Xs_val[i][:,1], color=color, marker='o', edgecolors=color, s=3, lw=0.5)\n",
    "# Add legend\n",
    "#cax = fig.add_axes([0.91,0.11,0.01,0.77])\n",
    "#fig.colorbar(cm.ScalarMappable(cmap=cmap, norm=matplotlib.colors.Normalize(vmin=0, vmax=10)), label=\"Time\", cax=cax)\n",
    "\n",
    "# Add legend markers\n",
    "training_data = matplotlib.lines.Line2D([], [], color='black', marker='o', linestyle='None',\n",
    "                          markersize=3, label='Training data')\n",
    "val_data = matplotlib.lines.Line2D([], [], color='black', marker='x', linestyle='None',\n",
    "                          markersize=3, label='Validation data')"
   ]
  }
 ],
 "metadata": {
  "kernelspec": {
   "display_name": "Python 3 (ipykernel)",
   "language": "python",
   "name": "python3"
  },
  "language_info": {
   "codemirror_mode": {
    "name": "ipython",
    "version": 3
   },
   "file_extension": ".py",
   "mimetype": "text/x-python",
   "name": "python",
   "nbconvert_exporter": "python",
   "pygments_lexer": "ipython3",
   "version": "3.8.10"
  }
 },
 "nbformat": 4,
 "nbformat_minor": 5
}
