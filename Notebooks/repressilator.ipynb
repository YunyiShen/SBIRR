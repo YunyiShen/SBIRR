{
 "cells": [
  {
   "cell_type": "markdown",
   "id": "869d9276",
   "metadata": {},
   "source": [
    "## Repressilator: synthetic biological clock"
   ]
  },
  {
   "cell_type": "markdown",
   "id": "01c21753-7018-44a0-9316-f23bb4504743",
   "metadata": {},
   "source": [
    "### Importing packages"
   ]
  },
  {
   "cell_type": "code",
   "execution_count": 1,
   "id": "77e9f7f8-8251-43ec-b4a8-5d35c72d5f23",
   "metadata": {},
   "outputs": [],
   "source": [
    "import numpy as np\n",
    "\n",
    "import pyro.contrib.gp as gp\n",
    "from SBIRR.SDE_solver import solve_sde_RK\n",
    "from SBIRR.utils import plot_trajectories_2\n",
    "import matplotlib.pyplot as plt\n",
    "from SBIRR.Schrodinger import gpIPFP, SchrodingerTrain, gpdrift, nndrift\n",
    "from SBIRR.GP import spatMultitaskGPModel\n",
    "from SBIRR.gradient_field_NN import train_nn_gradient, GradFieldMLP2\n",
    "import torch\n",
    "import torch.nn as nn\n",
    "import sys\n",
    "device = torch.device(\"cuda\" if torch.cuda.is_available() else \"cpu\")\n",
    "import math\n",
    "import time\n",
    "import csv\n",
    "\n",
    "from SBIRR.experiments_helper import get_settings # in ../package/SBIRR/experiments_helper.py"
   ]
  },
  {
   "cell_type": "markdown",
   "id": "3ce5644c",
   "metadata": {},
   "source": [
    "## set up and load data"
   ]
  },
  {
   "cell_type": "code",
   "execution_count": 5,
   "id": "f894957c-c1c8-4b6a-8328-42db8f9bd2a4",
   "metadata": {},
   "outputs": [],
   "source": [
    "task_name = \"repres\" \n",
    "# load all data\n",
    "Xs_val = np.load(\"./data/\"+task_name+\"_data.npy\", allow_pickle = True)\n",
    "Xs_val = [torch.tensor(X).to(device) for X in Xs_val]\n",
    "n_snap = len(Xs_val)\n",
    "Xs = [Xs_val[2 * i] for i in range(int(n_snap/2)+1)]\n",
    "N_steps = len(Xs)\n",
    "# take SDE seetings and reference family\n",
    "sigma, dt, N, dts, oursnndrift, vanillanndrift = get_settings(task_name, N_steps)"
   ]
  },
  {
   "cell_type": "code",
   "execution_count": 6,
   "id": "551713c1-11df-4993-86da-3c40551eae96",
   "metadata": {},
   "outputs": [
    {
     "data": {
      "text/plain": [
       "<torch._C.Generator at 0x7fd2aac64b30>"
      ]
     },
     "execution_count": 6,
     "metadata": {},
     "output_type": "execute_result"
    }
   ],
   "source": [
    "torch.manual_seed(0)"
   ]
  },
  {
   "cell_type": "code",
   "execution_count": 12,
   "id": "28013b50-7dff-40d0-b01c-22b8f176e137",
   "metadata": {},
   "outputs": [],
   "source": [
    "def gpIPFPmaker(ref_drift = None, N = N, device = device):\n",
    "        return gpIPFP(\n",
    "                  ref_drift = ref_drift, \n",
    "                  N = N, device = device)\n",
    "oursSchrodinger_train = SchrodingerTrain(Xs, dts, sigma)\n",
    "\n",
    "# IRR\n",
    "start_time = time.time()\n",
    "_, backnforth = oursSchrodinger_train.iter_drift_fit(gpIPFPmaker,\n",
    "                                                        oursnndrift,\n",
    "                                                        ipfpiter = 10, \n",
    "                                                        iteration = 10)\n",
    "end_time = time.time()\n",
    "elapsed_time_irr = end_time - start_time"
   ]
  },
  {
   "cell_type": "code",
   "execution_count": 13,
   "id": "35f96dca-6819-4fb2-874c-c028043cf43f",
   "metadata": {},
   "outputs": [],
   "source": [
    "# Naive\n",
    "start_time = time.time()\n",
    "_, backnforth_vSB = oursSchrodinger_train.iter_drift_fit(gpIPFPmaker,\n",
    "                                                        vanillanndrift,\n",
    "                                                        ipfpiter = 10, \n",
    "                                                        iteration = 1)\n",
    "end_time = time.time()\n",
    "elapsed_time_naive = end_time - start_time"
   ]
  },
  {
   "cell_type": "markdown",
   "id": "24bb4336",
   "metadata": {},
   "source": [
    "### earth mover distance"
   ]
  },
  {
   "cell_type": "code",
   "execution_count": null,
   "id": "29c38179-79fa-4610-af6a-d9e950561b2e",
   "metadata": {},
   "outputs": [],
   "source": [
    "from TrajectoryNet.optimal_transport.emd import earth_mover_distance\n",
    "i = 1\n",
    "[earth_mover_distance(Xs_val[2 * i + 1], backnforth[:,int((backnforth.shape[1]-1)/(len(Xs_val)-1)) * (2 * i + 1),:-1]), \\\n",
    "earth_mover_distance(Xs_val[2 * i + 1], backnforth_vSB[:,int((backnforth.shape[1]-1)/(len(Xs_val)-1)) * (2 * i + 1),:-1])]"
   ]
  },
  {
   "cell_type": "markdown",
   "id": "f3e197cc",
   "metadata": {},
   "source": [
    "### visualizing"
   ]
  },
  {
   "cell_type": "markdown",
   "id": "1c3866d5",
   "metadata": {},
   "source": [
    "Visualizing ours"
   ]
  },
  {
   "cell_type": "code",
   "execution_count": null,
   "id": "11b0aab4-3653-4caf-94c5-07a2cae89a75",
   "metadata": {},
   "outputs": [],
   "source": [
    "plt.rcParams['figure.figsize'] = [15, 10]\n",
    "fig, axs = plt.subplots(1, 1)\n",
    "axs.axis('off')\n",
    "axs = fig.add_subplot(111, projection='3d')\n",
    "\n",
    "# Define colormap\n",
    "cmap = cm.get_cmap('coolwarm')\n",
    "\n",
    "# plot the sample points\n",
    "for i in range(len(Xs_val)):\n",
    "    color = cmap(i/len(Xs_val))\n",
    "    axs.scatter(Xs_val[i][:,0], Xs_val[i][:,1], Xs_val[i][:,2], label='validation samples at t='+str(i), s=50, c=color)\n",
    "\n",
    "# add general legend to the figure\n",
    "fig.legend(loc='center right', fontsize=15)\n",
    "\n",
    "for i in range(len(backnforth)):\n",
    "    axs.plot(backnforth[i,:,0], \n",
    "             backnforth[i,:,1], \n",
    "             backnforth[i,:,2], label='interpolation sb-sde at t='+str(i), \n",
    "             color='black', alpha=0.1)\n",
    "\n",
    "# add title to each subplot\n",
    "axs.set_title(f'Validation samples and interpolated trajectories sb-sde', fontsize=20)\n",
    "\n",
    "# Add axis labels to each subplot\n",
    "axs.set_xlabel('Gene 1', labelpad=10, fontsize=20)\n",
    "axs.set_ylabel('Gene 2', labelpad=10, fontsize=20)\n",
    "axs.set_zlabel('Gene 3', labelpad=10, fontsize=20)\n",
    "\n",
    "# Rotate the initial angle\n",
    "axs.view_init(-140, 60)\n",
    "\n",
    "# show the figure\n",
    "plt.show()"
   ]
  },
  {
   "cell_type": "code",
   "execution_count": null,
   "id": "bb393a99",
   "metadata": {},
   "outputs": [],
   "source": [
    "plt.rcParams['figure.figsize'] = [15, 10]\n",
    "fig, axs = plt.subplots(1, 1)\n",
    "axs.axis('off')\n",
    "axs = fig.add_subplot(111, projection='3d')\n",
    "\n",
    "# Define colormap\n",
    "cmap = cm.get_cmap('coolwarm')\n",
    "\n",
    "# plot the sample points\n",
    "for i in range(len(Xs_val)):\n",
    "    color = cmap(i/len(Xs_val))\n",
    "    axs.scatter(Xs_val[i][:,0], Xs_val[i][:,1], Xs_val[i][:,2], s=50, c=color)\n",
    "\n",
    "# add general legend to the figure\n",
    "fig.legend(loc='center right', fontsize=15)\n",
    "\n",
    "for i in range(len(backnforth_vSB)):\n",
    "    axs.plot(backnforth_vSB[i,:,0], \n",
    "             backnforth_vSB[i,:,1], \n",
    "             backnforth_vSB[i,:,2], label='interpolation vanilla-sb at t='+str(i), \n",
    "             color='black', alpha=0.1)\n",
    "\n",
    "\n",
    "# Add axis labels to each subplot\n",
    "axs.set_xlabel('Gene 1', labelpad=10, fontsize=20)\n",
    "axs.set_ylabel('Gene 2', labelpad=10, fontsize=20)\n",
    "axs.set_zlabel('Gene 3', labelpad=10, fontsize=20)\n",
    "\n",
    "# Rotate the initial angle\n",
    "axs.view_init(-140, 60)\n",
    "\n",
    "# show the figure\n",
    "plt.show()"
   ]
  }
 ],
 "metadata": {
  "kernelspec": {
   "display_name": "Python 3 (ipykernel)",
   "language": "python",
   "name": "python3"
  },
  "language_info": {
   "codemirror_mode": {
    "name": "ipython",
    "version": 3
   },
   "file_extension": ".py",
   "mimetype": "text/x-python",
   "name": "python",
   "nbconvert_exporter": "python",
   "pygments_lexer": "ipython3",
   "version": "3.8.10"
  }
 },
 "nbformat": 4,
 "nbformat_minor": 5
}
